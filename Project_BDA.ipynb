{
 "cells": [
  {
   "cell_type": "markdown",
   "id": "783b6617-3eb4-4a62-aac5-500dbec3d483",
   "metadata": {},
   "source": [
    "# Big Data Project : Spark MLlib vs Apache Mahout \n",
    "### Apache Spark MLLIB Nootbook"
   ]
  },
  {
   "cell_type": "code",
   "execution_count": 1,
   "id": "ecbed006-05a9-4097-9780-9d5e29897246",
   "metadata": {},
   "outputs": [
    {
     "name": "stdout",
     "output_type": "stream",
     "text": [
      "Requirement already satisfied: pyspark in /usr/local/spark-3.2.1-bin-hadoop3.2/python (3.2.1)\n",
      "Collecting py4j==0.10.9.3\n",
      "  Downloading py4j-0.10.9.3-py2.py3-none-any.whl (198 kB)\n",
      "\u001b[2K     \u001b[90m━━━━━━━━━━━━━━━━━━━━━━━━━━━━━━━━━━━━━\u001b[0m \u001b[32m199.0/199.0 kB\u001b[0m \u001b[31m172.3 kB/s\u001b[0m eta \u001b[36m0:00:00\u001b[0m00:01\u001b[0m00:01\u001b[0m\n",
      "\u001b[?25hInstalling collected packages: py4j\n",
      "Successfully installed py4j-0.10.9.3\n"
     ]
    }
   ],
   "source": [
    "!pip install pyspark"
   ]
  },
  {
   "cell_type": "markdown",
   "id": "8c6f96b8-1a78-4294-b3c1-6cacceba3f4d",
   "metadata": {
    "jp-MarkdownHeadingCollapsed": true,
    "tags": []
   },
   "source": [
    "# Importing PySpark"
   ]
  },
  {
   "cell_type": "code",
   "execution_count": null,
   "id": "634f309d-78c8-479e-9aab-4bc75c242a6a",
   "metadata": {},
   "outputs": [],
   "source": [
    "import pyspark"
   ]
  },
  {
   "cell_type": "markdown",
   "id": "e5de5868-bce2-4073-8fc7-412e0b432d35",
   "metadata": {},
   "source": [
    "# Creating Spark Session"
   ]
  },
  {
   "cell_type": "code",
   "execution_count": 2,
   "id": "f7cb8909-5917-472c-bcd6-3dc89aef20d3",
   "metadata": {},
   "outputs": [],
   "source": [
    "import pyspark"
   ]
  },
  {
   "cell_type": "code",
   "execution_count": 3,
   "id": "40c1f10b-581b-4d41-be70-28208ce0a880",
   "metadata": {},
   "outputs": [],
   "source": [
    "from pyspark.sql import SparkSession"
   ]
  },
  {
   "cell_type": "code",
   "execution_count": 4,
   "id": "3b4b377a-0a15-4b88-977a-0d2a3e818da6",
   "metadata": {},
   "outputs": [],
   "source": [
    "spark = SparkSession.builder.appName('Project').getOrCreate()"
   ]
  },
  {
   "cell_type": "code",
   "execution_count": 5,
   "id": "1188b247-7981-4ccd-81ce-b9995e487a85",
   "metadata": {},
   "outputs": [
    {
     "data": {
      "text/html": [
       "\n",
       "            <div>\n",
       "                <p><b>SparkSession - in-memory</b></p>\n",
       "                \n",
       "        <div>\n",
       "            <p><b>SparkContext</b></p>\n",
       "\n",
       "            <p><a href=\"http://537777cba2f0:4040\">Spark UI</a></p>\n",
       "\n",
       "            <dl>\n",
       "              <dt>Version</dt>\n",
       "                <dd><code>v3.2.1</code></dd>\n",
       "              <dt>Master</dt>\n",
       "                <dd><code>local[*]</code></dd>\n",
       "              <dt>AppName</dt>\n",
       "                <dd><code>Project</code></dd>\n",
       "            </dl>\n",
       "        </div>\n",
       "        \n",
       "            </div>\n",
       "        "
      ],
      "text/plain": [
       "<pyspark.sql.session.SparkSession at 0x7f778febd780>"
      ]
     },
     "execution_count": 5,
     "metadata": {},
     "output_type": "execute_result"
    }
   ],
   "source": [
    "spark"
   ]
  },
  {
   "cell_type": "markdown",
   "id": "83ffd903-aedd-4b6a-9427-c4f4725da04a",
   "metadata": {},
   "source": [
    "# Loading Dataset"
   ]
  },
  {
   "cell_type": "code",
   "execution_count": 93,
   "id": "e915d772-7e1f-4ba3-81aa-0c58f6a8d672",
   "metadata": {},
   "outputs": [],
   "source": [
    "data = spark.read.csv('MasterFile.csv')"
   ]
  },
  {
   "cell_type": "code",
   "execution_count": 94,
   "id": "637328e7-6a38-4ec0-a190-3cc3e2880cca",
   "metadata": {},
   "outputs": [],
   "source": [
    "data = spark.read.option('header','true').csv('MasterFile.csv', inferSchema = True)"
   ]
  },
  {
   "cell_type": "code",
   "execution_count": 95,
   "id": "47a07af8-8db6-455c-99a2-01918ae8614f",
   "metadata": {},
   "outputs": [
    {
     "data": {
      "text/plain": [
       "pyspark.sql.dataframe.DataFrame"
      ]
     },
     "execution_count": 95,
     "metadata": {},
     "output_type": "execute_result"
    }
   ],
   "source": [
    "type(data)"
   ]
  },
  {
   "cell_type": "markdown",
   "id": "3d257756-f667-4aff-9537-520552a719f3",
   "metadata": {},
   "source": [
    "# Data Pre - Processing"
   ]
  },
  {
   "cell_type": "code",
   "execution_count": 96,
   "id": "7c3eff13-a0cc-4294-93d3-d7224cad113b",
   "metadata": {},
   "outputs": [
    {
     "data": {
      "text/plain": [
       "[Row(Accident_Index='200501BS00001', Location_Easting_OSGR=525680.0, Location_Northing_OSGR=178240.0, Longitude=-0.19117, Latitude=51.489096, Police_Force=1, Accident_Severity=2, Number_of_Vehicles=1, Number_of_Casualties=1, Date='04/01/2005', Day_of_Week=3, Time='17:42', Local_Authority_(District)=12, Local_Authority_(Highway)='E09000020', 1st_Road_Class=3, 1st_Road_Number=3218, Road_Type='Single carriageway', Speed_limit=30, Junction_Detail=None, Junction_Control=None, 2nd_Road_Class=-1, 2nd_Road_Number=0, Pedestrian_Crossing-Human_Control='None within 50 metres', Pedestrian_Crossing-Physical_Facilities='Zebra crossing', Light_Conditions='Daylight: Street light present', Weather_Conditions='Raining without high winds', Road_Surface_Conditions='Wet/Damp', Special_Conditions_at_Site='None', Carriageway_Hazards='None', Urban_or_Rural_Area=1, Did_Police_Officer_Attend_Scene_of_Accident='Yes', LSOA_of_Accident_Location='E01002849', Year=2005),\n",
       " Row(Accident_Index='200501BS00002', Location_Easting_OSGR=524170.0, Location_Northing_OSGR=181650.0, Longitude=-0.211708, Latitude=51.520075, Police_Force=1, Accident_Severity=3, Number_of_Vehicles=1, Number_of_Casualties=1, Date='05/01/2005', Day_of_Week=4, Time='17:36', Local_Authority_(District)=12, Local_Authority_(Highway)='E09000020', 1st_Road_Class=4, 1st_Road_Number=450, Road_Type='Dual carriageway', Speed_limit=30, Junction_Detail=None, Junction_Control='Automatic traffic signal', 2nd_Road_Class=5, 2nd_Road_Number=0, Pedestrian_Crossing-Human_Control='None within 50 metres', Pedestrian_Crossing-Physical_Facilities='Pedestrian phase at traffic signal junction', Light_Conditions='Darkness: Street lights present and lit', Weather_Conditions='Fine without high winds', Road_Surface_Conditions='Dry', Special_Conditions_at_Site='None', Carriageway_Hazards='None', Urban_or_Rural_Area=1, Did_Police_Officer_Attend_Scene_of_Accident='Yes', LSOA_of_Accident_Location='E01002909', Year=2005),\n",
       " Row(Accident_Index='200501BS00003', Location_Easting_OSGR=524520.0, Location_Northing_OSGR=182240.0, Longitude=-0.206458, Latitude=51.525301, Police_Force=1, Accident_Severity=3, Number_of_Vehicles=2, Number_of_Casualties=1, Date='06/01/2005', Day_of_Week=5, Time='00:15', Local_Authority_(District)=12, Local_Authority_(Highway)='E09000020', 1st_Road_Class=5, 1st_Road_Number=0, Road_Type='Single carriageway', Speed_limit=30, Junction_Detail=None, Junction_Control=None, 2nd_Road_Class=-1, 2nd_Road_Number=0, Pedestrian_Crossing-Human_Control='None within 50 metres', Pedestrian_Crossing-Physical_Facilities='No physical crossing within 50 meters', Light_Conditions='Darkness: Street lights present and lit', Weather_Conditions='Fine without high winds', Road_Surface_Conditions='Dry', Special_Conditions_at_Site='None', Carriageway_Hazards='None', Urban_or_Rural_Area=1, Did_Police_Officer_Attend_Scene_of_Accident='Yes', LSOA_of_Accident_Location='E01002857', Year=2005)]"
      ]
     },
     "execution_count": 96,
     "metadata": {},
     "output_type": "execute_result"
    }
   ],
   "source": [
    "data.head(3)"
   ]
  },
  {
   "cell_type": "code",
   "execution_count": 97,
   "id": "5a602a2c-6ad9-40e2-94e2-64631f0b7649",
   "metadata": {},
   "outputs": [
    {
     "name": "stdout",
     "output_type": "stream",
     "text": [
      "root\n",
      " |-- Accident_Index: string (nullable = true)\n",
      " |-- Location_Easting_OSGR: double (nullable = true)\n",
      " |-- Location_Northing_OSGR: double (nullable = true)\n",
      " |-- Longitude: double (nullable = true)\n",
      " |-- Latitude: double (nullable = true)\n",
      " |-- Police_Force: integer (nullable = true)\n",
      " |-- Accident_Severity: integer (nullable = true)\n",
      " |-- Number_of_Vehicles: integer (nullable = true)\n",
      " |-- Number_of_Casualties: integer (nullable = true)\n",
      " |-- Date: string (nullable = true)\n",
      " |-- Day_of_Week: integer (nullable = true)\n",
      " |-- Time: string (nullable = true)\n",
      " |-- Local_Authority_(District): integer (nullable = true)\n",
      " |-- Local_Authority_(Highway): string (nullable = true)\n",
      " |-- 1st_Road_Class: integer (nullable = true)\n",
      " |-- 1st_Road_Number: integer (nullable = true)\n",
      " |-- Road_Type: string (nullable = true)\n",
      " |-- Speed_limit: integer (nullable = true)\n",
      " |-- Junction_Detail: string (nullable = true)\n",
      " |-- Junction_Control: string (nullable = true)\n",
      " |-- 2nd_Road_Class: integer (nullable = true)\n",
      " |-- 2nd_Road_Number: integer (nullable = true)\n",
      " |-- Pedestrian_Crossing-Human_Control: string (nullable = true)\n",
      " |-- Pedestrian_Crossing-Physical_Facilities: string (nullable = true)\n",
      " |-- Light_Conditions: string (nullable = true)\n",
      " |-- Weather_Conditions: string (nullable = true)\n",
      " |-- Road_Surface_Conditions: string (nullable = true)\n",
      " |-- Special_Conditions_at_Site: string (nullable = true)\n",
      " |-- Carriageway_Hazards: string (nullable = true)\n",
      " |-- Urban_or_Rural_Area: integer (nullable = true)\n",
      " |-- Did_Police_Officer_Attend_Scene_of_Accident: string (nullable = true)\n",
      " |-- LSOA_of_Accident_Location: string (nullable = true)\n",
      " |-- Year: integer (nullable = true)\n",
      "\n"
     ]
    }
   ],
   "source": [
    "data.printSchema()"
   ]
  },
  {
   "cell_type": "code",
   "execution_count": 98,
   "id": "9fbc277f-174b-4612-8378-e777953c368c",
   "metadata": {},
   "outputs": [
    {
     "data": {
      "text/plain": [
       "['Accident_Index',\n",
       " 'Location_Easting_OSGR',\n",
       " 'Location_Northing_OSGR',\n",
       " 'Longitude',\n",
       " 'Latitude',\n",
       " 'Police_Force',\n",
       " 'Accident_Severity',\n",
       " 'Number_of_Vehicles',\n",
       " 'Number_of_Casualties',\n",
       " 'Date',\n",
       " 'Day_of_Week',\n",
       " 'Time',\n",
       " 'Local_Authority_(District)',\n",
       " 'Local_Authority_(Highway)',\n",
       " '1st_Road_Class',\n",
       " '1st_Road_Number',\n",
       " 'Road_Type',\n",
       " 'Speed_limit',\n",
       " 'Junction_Detail',\n",
       " 'Junction_Control',\n",
       " '2nd_Road_Class',\n",
       " '2nd_Road_Number',\n",
       " 'Pedestrian_Crossing-Human_Control',\n",
       " 'Pedestrian_Crossing-Physical_Facilities',\n",
       " 'Light_Conditions',\n",
       " 'Weather_Conditions',\n",
       " 'Road_Surface_Conditions',\n",
       " 'Special_Conditions_at_Site',\n",
       " 'Carriageway_Hazards',\n",
       " 'Urban_or_Rural_Area',\n",
       " 'Did_Police_Officer_Attend_Scene_of_Accident',\n",
       " 'LSOA_of_Accident_Location',\n",
       " 'Year']"
      ]
     },
     "execution_count": 98,
     "metadata": {},
     "output_type": "execute_result"
    }
   ],
   "source": [
    "data.columns"
   ]
  },
  {
   "cell_type": "code",
   "execution_count": 99,
   "id": "76a2da15-7c28-45e4-845e-5db74fcc37c3",
   "metadata": {},
   "outputs": [
    {
     "data": {
      "text/plain": [
       "DataFrame[Light_Conditions: string]"
      ]
     },
     "execution_count": 99,
     "metadata": {},
     "output_type": "execute_result"
    }
   ],
   "source": [
    "data.select('Light_Conditions')"
   ]
  },
  {
   "cell_type": "code",
   "execution_count": 100,
   "id": "c1041b49-3265-499a-818c-168d985686c4",
   "metadata": {},
   "outputs": [
    {
     "name": "stdout",
     "output_type": "stream",
     "text": [
      "+--------------------+\n",
      "|    Light_Conditions|\n",
      "+--------------------+\n",
      "|Daylight: Street ...|\n",
      "|Darkness: Street ...|\n",
      "|Darkness: Street ...|\n",
      "|Daylight: Street ...|\n",
      "|Darkness: Street ...|\n",
      "|Daylight: Street ...|\n",
      "|Darkness: Street ...|\n",
      "|Daylight: Street ...|\n",
      "|Darkness: Street ...|\n",
      "|Daylight: Street ...|\n",
      "|Darkness: Street ...|\n",
      "|Darkness: Street ...|\n",
      "|Daylight: Street ...|\n",
      "|Darkness: Street ...|\n",
      "|Daylight: Street ...|\n",
      "|Daylight: Street ...|\n",
      "|Darkness: Street ...|\n",
      "|Daylight: Street ...|\n",
      "|Darkness: Street ...|\n",
      "|Darkness: Street ...|\n",
      "+--------------------+\n",
      "only showing top 20 rows\n",
      "\n"
     ]
    }
   ],
   "source": [
    "data.select('Light_Conditions').show()"
   ]
  },
  {
   "cell_type": "markdown",
   "id": "543efc7e-b151-4707-8610-eba08c8e545b",
   "metadata": {},
   "source": [
    "## Dropping Unique Features"
   ]
  },
  {
   "cell_type": "code",
   "execution_count": 101,
   "id": "fb1d7db0-e4a4-46a1-9dbf-18a997bb01a4",
   "metadata": {},
   "outputs": [],
   "source": [
    "filtered_data = data.drop('Time')"
   ]
  },
  {
   "cell_type": "code",
   "execution_count": 102,
   "id": "2e0d0661-7404-469e-9b96-eeabfa8e222e",
   "metadata": {},
   "outputs": [],
   "source": [
    "filtered_data = filtered_data.drop('Date')"
   ]
  },
  {
   "cell_type": "code",
   "execution_count": 103,
   "id": "672ed69b-b414-4997-875b-e4649f9cc7ac",
   "metadata": {},
   "outputs": [],
   "source": [
    "filtered_data = filtered_data.drop('Accident_Index')"
   ]
  },
  {
   "cell_type": "code",
   "execution_count": 104,
   "id": "4f951396-588a-42fd-8b6f-d1703c664674",
   "metadata": {},
   "outputs": [],
   "source": [
    "filtered_data = filtered_data.drop('LSOA_of_Accident_Location')"
   ]
  },
  {
   "cell_type": "code",
   "execution_count": 105,
   "id": "7c18a689-bfad-4a4f-955f-e77e73f47885",
   "metadata": {},
   "outputs": [],
   "source": [
    "filtered_data = filtered_data.drop('Local_Authority_(Highway)')"
   ]
  },
  {
   "cell_type": "code",
   "execution_count": 106,
   "id": "22e9845f-37de-4280-8b6b-4b068bc115e3",
   "metadata": {},
   "outputs": [
    {
     "data": {
      "text/plain": [
       "['Location_Easting_OSGR',\n",
       " 'Location_Northing_OSGR',\n",
       " 'Longitude',\n",
       " 'Latitude',\n",
       " 'Police_Force',\n",
       " 'Accident_Severity',\n",
       " 'Number_of_Vehicles',\n",
       " 'Number_of_Casualties',\n",
       " 'Day_of_Week',\n",
       " 'Local_Authority_(District)',\n",
       " '1st_Road_Class',\n",
       " '1st_Road_Number',\n",
       " 'Road_Type',\n",
       " 'Speed_limit',\n",
       " 'Junction_Detail',\n",
       " 'Junction_Control',\n",
       " '2nd_Road_Class',\n",
       " '2nd_Road_Number',\n",
       " 'Pedestrian_Crossing-Human_Control',\n",
       " 'Pedestrian_Crossing-Physical_Facilities',\n",
       " 'Light_Conditions',\n",
       " 'Weather_Conditions',\n",
       " 'Road_Surface_Conditions',\n",
       " 'Special_Conditions_at_Site',\n",
       " 'Carriageway_Hazards',\n",
       " 'Urban_or_Rural_Area',\n",
       " 'Did_Police_Officer_Attend_Scene_of_Accident',\n",
       " 'Year']"
      ]
     },
     "execution_count": 106,
     "metadata": {},
     "output_type": "execute_result"
    }
   ],
   "source": [
    "filtered_data.columns"
   ]
  },
  {
   "cell_type": "code",
   "execution_count": 107,
   "id": "4691e4bd-51bc-46a6-a0c3-fc5caa73b0a9",
   "metadata": {},
   "outputs": [],
   "source": [
    "filtered_data = filtered_data.drop('Junction_Detail')"
   ]
  },
  {
   "cell_type": "code",
   "execution_count": 108,
   "id": "1a09aa9e-3af3-4ca7-b66f-edc5c66dd0fa",
   "metadata": {},
   "outputs": [],
   "source": [
    "filtered_data = filtered_data.drop('Junction_Control')"
   ]
  },
  {
   "cell_type": "code",
   "execution_count": 111,
   "id": "f43902a9-3acb-4205-bbd0-9f43c347ae86",
   "metadata": {},
   "outputs": [
    {
     "data": {
      "text/plain": [
       "['Location_Easting_OSGR',\n",
       " 'Location_Northing_OSGR',\n",
       " 'Longitude',\n",
       " 'Latitude',\n",
       " 'Police_Force',\n",
       " 'Accident_Severity',\n",
       " 'Number_of_Vehicles',\n",
       " 'Number_of_Casualties',\n",
       " 'Day_of_Week',\n",
       " 'Local_Authority_(District)',\n",
       " '1st_Road_Class',\n",
       " '1st_Road_Number',\n",
       " 'Road_Type',\n",
       " 'Speed_limit',\n",
       " '2nd_Road_Class',\n",
       " '2nd_Road_Number',\n",
       " 'Pedestrian_Crossing-Human_Control',\n",
       " 'Pedestrian_Crossing-Physical_Facilities',\n",
       " 'Light_Conditions',\n",
       " 'Weather_Conditions',\n",
       " 'Road_Surface_Conditions',\n",
       " 'Special_Conditions_at_Site',\n",
       " 'Carriageway_Hazards',\n",
       " 'Urban_or_Rural_Area',\n",
       " 'Did_Police_Officer_Attend_Scene_of_Accident',\n",
       " 'Year']"
      ]
     },
     "execution_count": 111,
     "metadata": {},
     "output_type": "execute_result"
    }
   ],
   "source": [
    "filtered_data.columns"
   ]
  },
  {
   "cell_type": "code",
   "execution_count": 112,
   "id": "0743ff5d-135d-4a18-ad31-bc5cd019f1da",
   "metadata": {},
   "outputs": [
    {
     "data": {
      "text/plain": [
       "1504150"
      ]
     },
     "execution_count": 112,
     "metadata": {},
     "output_type": "execute_result"
    }
   ],
   "source": [
    "filtered_data.count()"
   ]
  },
  {
   "cell_type": "markdown",
   "id": "62fb7972-18cc-40c1-a395-844790cdef60",
   "metadata": {},
   "source": [
    "## Checking For Null Values"
   ]
  },
  {
   "cell_type": "code",
   "execution_count": 120,
   "id": "94ebf288-f474-4482-b4fd-12a79b17e4b2",
   "metadata": {},
   "outputs": [],
   "source": [
    "import pyspark.sql.functions as F\n",
    "\n",
    "df_agg = filtered_data.agg(*[F.count(F.when(F.isnull(c), c)).alias(c) for c in filtered_data.columns])"
   ]
  },
  {
   "cell_type": "code",
   "execution_count": 121,
   "id": "3c57a17f-7bb8-4a29-af9d-dd5c7ee868b5",
   "metadata": {},
   "outputs": [
    {
     "name": "stdout",
     "output_type": "stream",
     "text": [
      "+---------------------+----------------------+---------+--------+------------+-----------------+------------------+--------------------+-----------+--------------------------+--------------+---------------+---------+-----------+--------------+---------------+---------------------------------+---------------------------------------+----------------+------------------+-----------------------+--------------------------+-------------------+-------------------+-------------------------------------------+----+\n",
      "|Location_Easting_OSGR|Location_Northing_OSGR|Longitude|Latitude|Police_Force|Accident_Severity|Number_of_Vehicles|Number_of_Casualties|Day_of_Week|Local_Authority_(District)|1st_Road_Class|1st_Road_Number|Road_Type|Speed_limit|2nd_Road_Class|2nd_Road_Number|Pedestrian_Crossing-Human_Control|Pedestrian_Crossing-Physical_Facilities|Light_Conditions|Weather_Conditions|Road_Surface_Conditions|Special_Conditions_at_Site|Carriageway_Hazards|Urban_or_Rural_Area|Did_Police_Officer_Attend_Scene_of_Accident|Year|\n",
      "+---------------------+----------------------+---------+--------+------------+-----------------+------------------+--------------------+-----------+--------------------------+--------------+---------------+---------+-----------+--------------+---------------+---------------------------------+---------------------------------------+----------------+------------------+-----------------------+--------------------------+-------------------+-------------------+-------------------------------------------+----+\n",
      "|                  101|                   101|      101|     101|           0|                0|                 0|                   0|          0|                         0|             0|              0|        0|          0|             0|              0|                               17|                                     34|               0|               126|                   1958|                        15|                 29|                  0|                                       2922|   0|\n",
      "+---------------------+----------------------+---------+--------+------------+-----------------+------------------+--------------------+-----------+--------------------------+--------------+---------------+---------+-----------+--------------+---------------+---------------------------------+---------------------------------------+----------------+------------------+-----------------------+--------------------------+-------------------+-------------------+-------------------------------------------+----+\n",
      "\n"
     ]
    }
   ],
   "source": [
    "df_agg.show()"
   ]
  },
  {
   "cell_type": "markdown",
   "id": "b3de8011-e536-4895-89cb-6345ac7e9e0f",
   "metadata": {},
   "source": [
    "### Aggregating Null Values"
   ]
  },
  {
   "cell_type": "code",
   "execution_count": 122,
   "id": "69656209-9bc6-42c0-82f8-1f7ca576caf8",
   "metadata": {},
   "outputs": [
    {
     "name": "stdout",
     "output_type": "stream",
     "text": [
      "+--------------------+----------+\n",
      "|         Column_Name|NULL_Count|\n",
      "+--------------------+----------+\n",
      "|Location_Easting_...|       101|\n",
      "|Location_Northing...|       101|\n",
      "|           Longitude|       101|\n",
      "|            Latitude|       101|\n",
      "|        Police_Force|         0|\n",
      "|   Accident_Severity|         0|\n",
      "|  Number_of_Vehicles|         0|\n",
      "|Number_of_Casualties|         0|\n",
      "|         Day_of_Week|         0|\n",
      "|Local_Authority_(...|         0|\n",
      "|      1st_Road_Class|         0|\n",
      "|     1st_Road_Number|         0|\n",
      "|           Road_Type|         0|\n",
      "|         Speed_limit|         0|\n",
      "|      2nd_Road_Class|         0|\n",
      "|     2nd_Road_Number|         0|\n",
      "|Pedestrian_Crossi...|        17|\n",
      "|Pedestrian_Crossi...|        34|\n",
      "|    Light_Conditions|         0|\n",
      "|  Weather_Conditions|       126|\n",
      "+--------------------+----------+\n",
      "only showing top 20 rows\n",
      "\n"
     ]
    }
   ],
   "source": [
    "from functools import reduce\n",
    "df_agg_col = reduce(\n",
    "    lambda a, b: a.union(b),\n",
    "    (\n",
    "        df_agg.select(F.lit(c).alias(\"Column_Name\"), F.col(c).alias(\"NULL_Count\")) \n",
    "        for c in df_agg.columns\n",
    "    )\n",
    ")\n",
    "df_agg_col.show()"
   ]
  },
  {
   "cell_type": "markdown",
   "id": "49ef744e-0112-486d-9bf0-b38655ba8cf4",
   "metadata": {},
   "source": [
    "### Dropping Null Values"
   ]
  },
  {
   "cell_type": "code",
   "execution_count": 132,
   "id": "d4255867-c040-4b07-98e3-db459e72f0de",
   "metadata": {},
   "outputs": [],
   "source": [
    "filter_data = filtered_data.dropna(how = 'any')"
   ]
  },
  {
   "cell_type": "code",
   "execution_count": 133,
   "id": "aeb7737d-a698-47a8-a958-207cba6cb487",
   "metadata": {},
   "outputs": [
    {
     "data": {
      "text/plain": [
       "1499613"
      ]
     },
     "execution_count": 133,
     "metadata": {},
     "output_type": "execute_result"
    }
   ],
   "source": [
    "filter_data.count()"
   ]
  },
  {
   "cell_type": "code",
   "execution_count": 134,
   "id": "d9e557b4-de1e-44b1-b4c8-37ef473dc692",
   "metadata": {},
   "outputs": [
    {
     "data": {
      "text/plain": [
       "1504150"
      ]
     },
     "execution_count": 134,
     "metadata": {},
     "output_type": "execute_result"
    }
   ],
   "source": [
    "filtered_data.count()"
   ]
  },
  {
   "cell_type": "code",
   "execution_count": 135,
   "id": "63f046ed-b738-4945-ae5b-d0244b94a204",
   "metadata": {},
   "outputs": [
    {
     "data": {
      "text/plain": [
       "26"
      ]
     },
     "execution_count": 135,
     "metadata": {},
     "output_type": "execute_result"
    }
   ],
   "source": [
    "len(filter_data.columns)"
   ]
  },
  {
   "cell_type": "markdown",
   "id": "6a0ec3ee-5806-4b1e-a0f2-5048fb20142c",
   "metadata": {},
   "source": [
    "# One - Hot Encoding"
   ]
  },
  {
   "cell_type": "markdown",
   "id": "a9a5053e-f772-48ba-b34a-d7a47c297124",
   "metadata": {},
   "source": [
    "## String Indexer"
   ]
  },
  {
   "cell_type": "code",
   "execution_count": 141,
   "id": "d6b3081f-cf14-487e-8b34-89319532d875",
   "metadata": {},
   "outputs": [],
   "source": [
    "from pyspark.ml.feature import StringIndexer"
   ]
  },
  {
   "cell_type": "code",
   "execution_count": 138,
   "id": "74ee6205-73fe-46ad-9a1c-65e8595ef98b",
   "metadata": {},
   "outputs": [],
   "source": [
    "  catCols = [x for (x,dataType) in filter_data.dtypes if dataType == \"string\"]"
   ]
  },
  {
   "cell_type": "code",
   "execution_count": 139,
   "id": "21ca5923-2ef1-4aae-bb9a-da290cb14a04",
   "metadata": {},
   "outputs": [
    {
     "name": "stdout",
     "output_type": "stream",
     "text": [
      "['Road_Type', 'Pedestrian_Crossing-Human_Control', 'Pedestrian_Crossing-Physical_Facilities', 'Light_Conditions', 'Weather_Conditions', 'Road_Surface_Conditions', 'Special_Conditions_at_Site', 'Carriageway_Hazards', 'Did_Police_Officer_Attend_Scene_of_Accident']\n"
     ]
    }
   ],
   "source": [
    "print(catCols)"
   ]
  },
  {
   "cell_type": "code",
   "execution_count": 142,
   "id": "5a770f39-fcab-4937-8fd4-170aa9717656",
   "metadata": {},
   "outputs": [],
   "source": [
    "string_indexer = StringIndexer(inputCols = ['Road_Type', 'Pedestrian_Crossing-Human_Control', 'Pedestrian_Crossing-Physical_Facilities', 'Light_Conditions', 'Weather_Conditions', 'Road_Surface_Conditions', 'Special_Conditions_at_Site', 'Carriageway_Hazards', 'Did_Police_Officer_Attend_Scene_of_Accident'],\n",
    "                               outputCols = ['Road_Type_StringIndexer', 'Pedestrian_Crossing-Human_Control_StringIndexer', 'Pedestrian_Crossing-Physical_Facilities_StringIndexer', 'Light_Conditions_StringIndexer', 'Weather_Conditions_StringIndexer', 'Road_Surface_Conditions_StringIndexer', 'Special_Conditions_at_Site_StringIndexer', 'Carriageway_Hazards_StringIndexer', 'Did_Police_Officer_Attend_Scene_of_Accident_StringIndexer'], handleInvalid = \"skip\")"
   ]
  },
  {
   "cell_type": "code",
   "execution_count": 143,
   "id": "badf2e62-c925-427c-8fea-5b9f3e021867",
   "metadata": {},
   "outputs": [],
   "source": [
    "indexed = string_indexer.fit(filter_data).transform(filter_data)"
   ]
  },
  {
   "cell_type": "code",
   "execution_count": 144,
   "id": "fba7b468-ef9c-4d9f-a404-c1b91313e7ad",
   "metadata": {},
   "outputs": [
    {
     "name": "stdout",
     "output_type": "stream",
     "text": [
      "root\n",
      " |-- Location_Easting_OSGR: double (nullable = true)\n",
      " |-- Location_Northing_OSGR: double (nullable = true)\n",
      " |-- Longitude: double (nullable = true)\n",
      " |-- Latitude: double (nullable = true)\n",
      " |-- Police_Force: integer (nullable = true)\n",
      " |-- Accident_Severity: integer (nullable = true)\n",
      " |-- Number_of_Vehicles: integer (nullable = true)\n",
      " |-- Number_of_Casualties: integer (nullable = true)\n",
      " |-- Day_of_Week: integer (nullable = true)\n",
      " |-- Local_Authority_(District): integer (nullable = true)\n",
      " |-- 1st_Road_Class: integer (nullable = true)\n",
      " |-- 1st_Road_Number: integer (nullable = true)\n",
      " |-- Road_Type: string (nullable = true)\n",
      " |-- Speed_limit: integer (nullable = true)\n",
      " |-- 2nd_Road_Class: integer (nullable = true)\n",
      " |-- 2nd_Road_Number: integer (nullable = true)\n",
      " |-- Pedestrian_Crossing-Human_Control: string (nullable = true)\n",
      " |-- Pedestrian_Crossing-Physical_Facilities: string (nullable = true)\n",
      " |-- Light_Conditions: string (nullable = true)\n",
      " |-- Weather_Conditions: string (nullable = true)\n",
      " |-- Road_Surface_Conditions: string (nullable = true)\n",
      " |-- Special_Conditions_at_Site: string (nullable = true)\n",
      " |-- Carriageway_Hazards: string (nullable = true)\n",
      " |-- Urban_or_Rural_Area: integer (nullable = true)\n",
      " |-- Did_Police_Officer_Attend_Scene_of_Accident: string (nullable = true)\n",
      " |-- Year: integer (nullable = true)\n",
      " |-- Road_Type_StringIndexer: double (nullable = false)\n",
      " |-- Pedestrian_Crossing-Human_Control_StringIndexer: double (nullable = false)\n",
      " |-- Pedestrian_Crossing-Physical_Facilities_StringIndexer: double (nullable = false)\n",
      " |-- Light_Conditions_StringIndexer: double (nullable = false)\n",
      " |-- Weather_Conditions_StringIndexer: double (nullable = false)\n",
      " |-- Road_Surface_Conditions_StringIndexer: double (nullable = false)\n",
      " |-- Special_Conditions_at_Site_StringIndexer: double (nullable = false)\n",
      " |-- Carriageway_Hazards_StringIndexer: double (nullable = false)\n",
      " |-- Did_Police_Officer_Attend_Scene_of_Accident_StringIndexer: double (nullable = false)\n",
      "\n"
     ]
    }
   ],
   "source": [
    "indexed.printSchema()"
   ]
  },
  {
   "cell_type": "code",
   "execution_count": 146,
   "id": "25172d78-379f-4b80-9db9-6d53bf3904d6",
   "metadata": {},
   "outputs": [],
   "source": [
    "from pyspark.ml.feature import OneHotEncoder"
   ]
  },
  {
   "cell_type": "code",
   "execution_count": 148,
   "id": "8d972a6d-e63e-4800-90c7-760523860859",
   "metadata": {},
   "outputs": [],
   "source": [
    "one_hot_encoder = OneHotEncoder(inputCols = [f\"{x}_StringIndexer\" for x in catCols], outputCols = [f\"{x}_OneHotEncoder\" for x in catCols])"
   ]
  },
  {
   "cell_type": "code",
   "execution_count": 149,
   "id": "8bf87329-4840-4019-ba01-779bd121285c",
   "metadata": {},
   "outputs": [],
   "source": [
    "model = one_hot_encoder.fit(indexed).transform(indexed)"
   ]
  },
  {
   "cell_type": "code",
   "execution_count": 150,
   "id": "e043ea42-5f3e-4353-9488-e61b662aace1",
   "metadata": {},
   "outputs": [
    {
     "name": "stdout",
     "output_type": "stream",
     "text": [
      "root\n",
      " |-- Location_Easting_OSGR: double (nullable = true)\n",
      " |-- Location_Northing_OSGR: double (nullable = true)\n",
      " |-- Longitude: double (nullable = true)\n",
      " |-- Latitude: double (nullable = true)\n",
      " |-- Police_Force: integer (nullable = true)\n",
      " |-- Accident_Severity: integer (nullable = true)\n",
      " |-- Number_of_Vehicles: integer (nullable = true)\n",
      " |-- Number_of_Casualties: integer (nullable = true)\n",
      " |-- Day_of_Week: integer (nullable = true)\n",
      " |-- Local_Authority_(District): integer (nullable = true)\n",
      " |-- 1st_Road_Class: integer (nullable = true)\n",
      " |-- 1st_Road_Number: integer (nullable = true)\n",
      " |-- Road_Type: string (nullable = true)\n",
      " |-- Speed_limit: integer (nullable = true)\n",
      " |-- 2nd_Road_Class: integer (nullable = true)\n",
      " |-- 2nd_Road_Number: integer (nullable = true)\n",
      " |-- Pedestrian_Crossing-Human_Control: string (nullable = true)\n",
      " |-- Pedestrian_Crossing-Physical_Facilities: string (nullable = true)\n",
      " |-- Light_Conditions: string (nullable = true)\n",
      " |-- Weather_Conditions: string (nullable = true)\n",
      " |-- Road_Surface_Conditions: string (nullable = true)\n",
      " |-- Special_Conditions_at_Site: string (nullable = true)\n",
      " |-- Carriageway_Hazards: string (nullable = true)\n",
      " |-- Urban_or_Rural_Area: integer (nullable = true)\n",
      " |-- Did_Police_Officer_Attend_Scene_of_Accident: string (nullable = true)\n",
      " |-- Year: integer (nullable = true)\n",
      " |-- Road_Type_StringIndexer: double (nullable = false)\n",
      " |-- Pedestrian_Crossing-Human_Control_StringIndexer: double (nullable = false)\n",
      " |-- Pedestrian_Crossing-Physical_Facilities_StringIndexer: double (nullable = false)\n",
      " |-- Light_Conditions_StringIndexer: double (nullable = false)\n",
      " |-- Weather_Conditions_StringIndexer: double (nullable = false)\n",
      " |-- Road_Surface_Conditions_StringIndexer: double (nullable = false)\n",
      " |-- Special_Conditions_at_Site_StringIndexer: double (nullable = false)\n",
      " |-- Carriageway_Hazards_StringIndexer: double (nullable = false)\n",
      " |-- Did_Police_Officer_Attend_Scene_of_Accident_StringIndexer: double (nullable = false)\n",
      " |-- Road_Type_OneHotEncoder: vector (nullable = true)\n",
      " |-- Pedestrian_Crossing-Human_Control_OneHotEncoder: vector (nullable = true)\n",
      " |-- Pedestrian_Crossing-Physical_Facilities_OneHotEncoder: vector (nullable = true)\n",
      " |-- Light_Conditions_OneHotEncoder: vector (nullable = true)\n",
      " |-- Weather_Conditions_OneHotEncoder: vector (nullable = true)\n",
      " |-- Road_Surface_Conditions_OneHotEncoder: vector (nullable = true)\n",
      " |-- Special_Conditions_at_Site_OneHotEncoder: vector (nullable = true)\n",
      " |-- Carriageway_Hazards_OneHotEncoder: vector (nullable = true)\n",
      " |-- Did_Police_Officer_Attend_Scene_of_Accident_OneHotEncoder: vector (nullable = true)\n",
      "\n"
     ]
    }
   ],
   "source": [
    "model.printSchema()"
   ]
  },
  {
   "cell_type": "code",
   "execution_count": 151,
   "id": "859e7683-5c21-4e37-a55f-f25eefa174bb",
   "metadata": {},
   "outputs": [],
   "source": [
    "from pyspark.ml.feature import VectorAssembler"
   ]
  },
  {
   "cell_type": "code",
   "execution_count": 152,
   "id": "0394ccdc-a1c9-4c81-859e-dc29cfae449e",
   "metadata": {},
   "outputs": [],
   "source": [
    "vector_assembler = VectorAssembler(\n",
    "    inputCols = [\"Location_Easting_OSGR\",\"Location_Northing_OSGR\",\"Longitude\",\"Latitude\",\"Police_Force\",\"Number_of_Vehicles\",\"Number_of_Casualties\",\"Day_of_Week\",\"Local_Authority_(District)\",\"1st_Road_Class\",\"1st_Road_Number\",\"Speed_limit\",\"2nd_Road_Class\",\"2nd_Road_Number\",\"Urban_or_Rural_Area\",\"Year\",\"Road_Type_OneHotEncoder\",\"Pedestrian_Crossing-Human_Control_OneHotEncoder\",\"Pedestrian_Crossing-Physical_Facilities_OneHotEncoder\",\"Light_Conditions_OneHotEncoder\",\"Weather_Conditions_OneHotEncoder\",\"Road_Surface_Conditions_OneHotEncoder\",\"Special_Conditions_at_Site_OneHotEncoder\",\"Carriageway_Hazards_OneHotEncoder\",\"Did_Police_Officer_Attend_Scene_of_Accident_OneHotEncoder\"], outputCol = \"features\"\n",
    ")"
   ]
  },
  {
   "cell_type": "code",
   "execution_count": 153,
   "id": "e24bf2e4-eac3-4f83-84e2-8c8b280fd37b",
   "metadata": {},
   "outputs": [],
   "source": [
    "output = vector_assembler.transform(model)"
   ]
  },
  {
   "cell_type": "code",
   "execution_count": 154,
   "id": "223057a2-a35b-4736-9022-45cd5aae4ef9",
   "metadata": {},
   "outputs": [],
   "source": [
    "model_filter_data = output.select(\"features\",\"Accident_Severity\")"
   ]
  },
  {
   "cell_type": "markdown",
   "id": "7b1c4f8b-f9d9-4a26-9de0-2d0fff1928ab",
   "metadata": {},
   "source": [
    "# Machine Learning Models"
   ]
  },
  {
   "cell_type": "code",
   "execution_count": 159,
   "id": "cb813651-11f9-4046-883e-9022c985f039",
   "metadata": {},
   "outputs": [],
   "source": [
    "from pyspark.ml.classification import DecisionTreeClassifier\n",
    "from pyspark.ml.evaluation import MulticlassClassificationEvaluator\n",
    "from pyspark.ml.feature import VectorAssembler"
   ]
  },
  {
   "cell_type": "markdown",
   "id": "6d64e198-c80d-4fc4-aef5-73b459905021",
   "metadata": {},
   "source": [
    "### Train - Test Split"
   ]
  },
  {
   "cell_type": "code",
   "execution_count": 166,
   "id": "02c1ce2a-6a2d-4211-b800-c271f70b32c9",
   "metadata": {},
   "outputs": [
    {
     "name": "stdout",
     "output_type": "stream",
     "text": [
      "Training Dataset Count: 1051002\n",
      "Test Dataset Count: 448611\n"
     ]
    }
   ],
   "source": [
    "train , test = model_filter_data.randomSplit([0.7,0.3])\n",
    "print(\"Training Dataset Count: \" + str(train.count()))\n",
    "print(\"Test Dataset Count: \" + str(test.count()))"
   ]
  },
  {
   "cell_type": "markdown",
   "id": "e85223d3-ab07-4135-92e1-498938e9fb66",
   "metadata": {},
   "source": [
    "## Decision Tree Classifier"
   ]
  },
  {
   "cell_type": "code",
   "execution_count": 160,
   "id": "307a73b3-6c93-4a16-b9bc-a0f72d41e313",
   "metadata": {},
   "outputs": [
    {
     "name": "stdout",
     "output_type": "stream",
     "text": [
      "CPU times: user 9.91 ms, sys: 0 ns, total: 9.91 ms\n",
      "Wall time: 1.23 s\n"
     ]
    }
   ],
   "source": [
    "%%time\n",
    "decision_tree = DecisionTreeClassifier(featuresCol = 'features',labelCol = 'Accident_Severity')"
   ]
  },
  {
   "cell_type": "code",
   "execution_count": 165,
   "id": "c0fd67b3-39b8-4e7f-8890-a38896c208f1",
   "metadata": {},
   "outputs": [
    {
     "name": "stdout",
     "output_type": "stream",
     "text": [
      "Time in Seconds : 176.3336\n"
     ]
    }
   ],
   "source": [
    "#import time\n",
    "#start_time = time.time()\n",
    "start = time.perf_counter()\n",
    "decision_tree.fit(train)\n",
    "end = time.perf_counter()\n",
    "duration = format((end-start),'.4f')\n",
    "print(\"Time in Seconds :\", duration)"
   ]
  },
  {
   "cell_type": "code",
   "execution_count": 210,
   "id": "a854296e-d7b6-4587-aea7-73bb5a7ba7cb",
   "metadata": {},
   "outputs": [],
   "source": [
    "model = decision_tree.fit(train)"
   ]
  },
  {
   "cell_type": "code",
   "execution_count": 211,
   "id": "a57981c1-4b9b-45ae-9b32-3cd1a70c05ee",
   "metadata": {},
   "outputs": [],
   "source": [
    "prediction_test = model.transform(test)"
   ]
  },
  {
   "cell_type": "code",
   "execution_count": 212,
   "id": "15a8dc5b-e4d8-4545-b9a8-6e132bf18a37",
   "metadata": {},
   "outputs": [],
   "source": [
    "predictionAndLabels = prediction_test.select(\"Accident_Severity\",\"prediction\").rdd"
   ]
  },
  {
   "cell_type": "code",
   "execution_count": 213,
   "id": "f18b1062-2585-443c-9850-69ac2e860e58",
   "metadata": {},
   "outputs": [
    {
     "name": "stdout",
     "output_type": "stream",
     "text": [
      "Accuracy Score of Decision Tree: 0.8515105514577217\n"
     ]
    }
   ],
   "source": [
    "evaluator = MulticlassClassificationEvaluator(labelCol = \"Accident_Severity\", predictionCol = \"prediction\", metricName = \"accuracy\")\n",
    "Accuracy_DT = evaluator.evaluate(prediction_test)\n",
    "print(\"Accuracy Score of Decision Tree:\" , Accuracy_DT)"
   ]
  },
  {
   "cell_type": "markdown",
   "id": "81c7cfb5-3817-4b97-8213-0d333b562da8",
   "metadata": {},
   "source": [
    "## Random Forest Classifier"
   ]
  },
  {
   "cell_type": "code",
   "execution_count": 167,
   "id": "82978964-199d-4250-88a9-2965c06af3c4",
   "metadata": {},
   "outputs": [],
   "source": [
    "from pyspark.ml.classification import RandomForestClassifier\n",
    "\n",
    "rf = RandomForestClassifier(featuresCol = 'features', labelCol = 'Accident_Severity')"
   ]
  },
  {
   "cell_type": "code",
   "execution_count": 168,
   "id": "fc16b17e-a5b4-486c-ac0d-830626cadc91",
   "metadata": {},
   "outputs": [
    {
     "name": "stdout",
     "output_type": "stream",
     "text": [
      "Random Forest Classifier Time in Seconds : 347.4570\n"
     ]
    }
   ],
   "source": [
    "start = time.perf_counter()\n",
    "rf.fit(train)\n",
    "end = time.perf_counter()\n",
    "duration = format((end-start),'.4f')\n",
    "print(\"Random Forest Classifier Time in Seconds :\", duration)"
   ]
  },
  {
   "cell_type": "code",
   "execution_count": 205,
   "id": "efcbfda8-9b29-421e-a629-e01356649db5",
   "metadata": {},
   "outputs": [],
   "source": [
    "model = rf.fit(train)"
   ]
  },
  {
   "cell_type": "code",
   "execution_count": 206,
   "id": "58bb0646-1bdc-4eb1-861f-6d0705d9ee38",
   "metadata": {},
   "outputs": [],
   "source": [
    "prediction_test = model.transform(test)"
   ]
  },
  {
   "cell_type": "code",
   "execution_count": 208,
   "id": "13c7b004-480c-4423-b345-0a4de3e0e631",
   "metadata": {},
   "outputs": [],
   "source": [
    "predictionAndLabels = prediction_test.select(\"Accident_Severity\",\"prediction\").rdd"
   ]
  },
  {
   "cell_type": "code",
   "execution_count": 214,
   "id": "e15f86c9-f094-49f3-8136-9a28ddb7f65a",
   "metadata": {},
   "outputs": [
    {
     "name": "stdout",
     "output_type": "stream",
     "text": [
      "Accuracy Score of Random Forest: 0.8515105514577217\n"
     ]
    }
   ],
   "source": [
    "evaluator = MulticlassClassificationEvaluator(labelCol = \"Accident_Severity\", predictionCol = \"prediction\", metricName = \"accuracy\")\n",
    "Accuracy_RF = evaluator.evaluate(prediction_test)\n",
    "print(\"Accuracy Score of Random Forest:\" , Accuracy_RF)"
   ]
  },
  {
   "cell_type": "code",
   "execution_count": null,
   "id": "6ea9d9e7-8ed3-481f-8bfc-3cd422c2509e",
   "metadata": {},
   "outputs": [],
   "source": []
  },
  {
   "cell_type": "markdown",
   "id": "2b43da76-4fb8-4323-b2c6-dad509d2e7fb",
   "metadata": {},
   "source": [
    "## Logistic Regression"
   ]
  },
  {
   "cell_type": "code",
   "execution_count": 171,
   "id": "c1838c35-97b0-47da-98db-d92755e3c4be",
   "metadata": {},
   "outputs": [],
   "source": [
    "from pyspark.ml.classification import LogisticRegression\n",
    "\n",
    "log_reg = LogisticRegression(featuresCol='features',labelCol='Accident_Severity')\n"
   ]
  },
  {
   "cell_type": "code",
   "execution_count": 181,
   "id": "db1bd06f-35ae-4b24-9507-d4ea5f51e1dc",
   "metadata": {},
   "outputs": [
    {
     "name": "stdout",
     "output_type": "stream",
     "text": [
      "Logistic Regression Time in Seconds : 107.3300\n"
     ]
    }
   ],
   "source": [
    "start = time.perf_counter()\n",
    "log_reg.fit(train)\n",
    "end = time.perf_counter()\n",
    "duration = format((end-start),'.4f')\n",
    "print(\"Logistic Regression Time in Seconds :\", duration)"
   ]
  },
  {
   "cell_type": "code",
   "execution_count": 189,
   "id": "a24fad33-a2c2-4a0a-a37a-68f51a8c7516",
   "metadata": {},
   "outputs": [],
   "source": [
    "log_reg2 = LogisticRegression(featuresCol='features',labelCol='Accident_Severity', maxIter = 20)\n",
    "model = log_reg2.fit(train)"
   ]
  },
  {
   "cell_type": "code",
   "execution_count": 191,
   "id": "e9a1939e-0d3a-46d7-a002-11b2a78b4b5e",
   "metadata": {},
   "outputs": [],
   "source": [
    "prediction_test = model.transform(test)"
   ]
  },
  {
   "cell_type": "code",
   "execution_count": 192,
   "id": "412f71c8-8f25-4ebb-9940-51a31767706e",
   "metadata": {},
   "outputs": [
    {
     "name": "stdout",
     "output_type": "stream",
     "text": [
      "+--------------------+-----------------+--------------------+--------------------+----------+\n",
      "|            features|Accident_Severity|       rawPrediction|         probability|prediction|\n",
      "+--------------------+-----------------+--------------------+--------------------+----------+\n",
      "|(57,[0,1,2,3,4,5,...|                3|[-8.7757203119566...|[3.38519414336258...|       3.0|\n",
      "|(57,[0,1,2,3,4,5,...|                3|[-8.7757869155237...|[3.09446539477171...|       3.0|\n",
      "|(57,[0,1,2,3,4,5,...|                3|[-8.7759778220738...|[5.12729244314534...|       3.0|\n",
      "|(57,[0,1,2,3,4,5,...|                3|[-8.7759765829342...|[5.21232819862944...|       3.0|\n",
      "|(57,[0,1,2,3,4,5,...|                3|[-8.7759338932484...|[3.85303528423077...|       3.0|\n",
      "|(57,[0,1,2,3,4,5,...|                3|[-8.7758947983594...|[3.81508451356216...|       3.0|\n",
      "|(57,[0,1,2,3,4,5,...|                3|[-8.7758880185192...|[3.77716040099032...|       3.0|\n",
      "|(57,[0,1,2,3,4,5,...|                3|[-8.7758832711596...|[3.57191055915620...|       3.0|\n",
      "|(57,[0,1,2,3,4,5,...|                3|[-8.7760303317021...|[4.60734902879685...|       3.0|\n",
      "|(57,[0,1,2,3,4,5,...|                3|[-8.7756486324987...|[2.71617560210194...|       3.0|\n",
      "|(57,[0,1,2,3,4,5,...|                3|[-8.7757690427486...|[3.63939773786574...|       3.0|\n",
      "|(57,[0,1,2,3,4,5,...|                3|[-8.7760109104373...|[4.9637620031813E...|       3.0|\n",
      "|(57,[0,1,2,3,4,5,...|                3|[-8.7758572868047...|[4.30372994918084...|       3.0|\n",
      "|(57,[0,1,2,3,4,5,...|                3|[-8.7760580404924...|[5.31629465468323...|       3.0|\n",
      "|(57,[0,1,2,3,4,5,...|                3|[-8.7758785216264...|[3.83924297192625...|       3.0|\n",
      "|(57,[0,1,2,3,4,5,...|                3|[-8.7759951446424...|[5.25798194492578...|       3.0|\n",
      "|(57,[0,1,2,3,4,5,...|                3|[-8.7756968191868...|[2.82552831369527...|       3.0|\n",
      "|(57,[0,1,2,3,4,5,...|                3|[-8.7758750484733...|[4.04590353507848...|       3.0|\n",
      "|(57,[0,1,2,3,4,5,...|                3|[-8.7758810303344...|[2.96902706669113...|       3.0|\n",
      "|(57,[0,1,2,3,4,5,...|                3|[-8.7756574702089...|[2.71969895147724...|       3.0|\n",
      "+--------------------+-----------------+--------------------+--------------------+----------+\n",
      "only showing top 20 rows\n",
      "\n"
     ]
    }
   ],
   "source": [
    "prediction_test.show()"
   ]
  },
  {
   "cell_type": "code",
   "execution_count": 193,
   "id": "2cfdb286-03ba-44d0-bb9d-bd5056f4af30",
   "metadata": {},
   "outputs": [],
   "source": [
    "predictionAndLabels = prediction_test.select(\"Accident_Severity\",\"prediction\").rdd"
   ]
  },
  {
   "cell_type": "code",
   "execution_count": 200,
   "id": "95ffe0a8-d1ee-4c8f-85fc-5bbc110937c4",
   "metadata": {},
   "outputs": [],
   "source": [
    "from pyspark.ml.evaluation import MulticlassClassificationEvaluator"
   ]
  },
  {
   "cell_type": "code",
   "execution_count": 199,
   "id": "ba956ce1-70fc-44ec-b8ae-e1a3531e4b9a",
   "metadata": {},
   "outputs": [],
   "source": [
    "from pyspark.mllib.evaluation import BinaryClassificationMetrics"
   ]
  },
  {
   "cell_type": "code",
   "execution_count": 204,
   "id": "e9a67bff-0b4a-49e8-a28b-5ec96eafeca3",
   "metadata": {},
   "outputs": [
    {
     "name": "stdout",
     "output_type": "stream",
     "text": [
      "Accuracy Score of Logistic Regression: 0.851497176841406\n"
     ]
    }
   ],
   "source": [
    "evaluator = MulticlassClassificationEvaluator(labelCol = \"Accident_Severity\", predictionCol = \"prediction\", metricName = \"accuracy\")\n",
    "Accuracy_LR = evaluator.evaluate(prediction_test)\n",
    "print(\"Accuracy Score of Logistic Regression:\" , Accuracy_LR)"
   ]
  },
  {
   "cell_type": "code",
   "execution_count": null,
   "id": "380894c8-f07e-4a6e-af70-a1ccbbebf46f",
   "metadata": {},
   "outputs": [],
   "source": []
  }
 ],
 "metadata": {
  "kernelspec": {
   "display_name": "Python 3 (ipykernel)",
   "language": "python",
   "name": "python3"
  },
  "language_info": {
   "codemirror_mode": {
    "name": "ipython",
    "version": 3
   },
   "file_extension": ".py",
   "mimetype": "text/x-python",
   "name": "python",
   "nbconvert_exporter": "python",
   "pygments_lexer": "ipython3",
   "version": "3.10.4"
  }
 },
 "nbformat": 4,
 "nbformat_minor": 5
}
